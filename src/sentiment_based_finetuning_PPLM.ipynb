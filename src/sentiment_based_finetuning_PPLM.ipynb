{
 "cells": [
  {
   "cell_type": "code",
   "execution_count": null,
   "metadata": {
    "colab": {
     "base_uri": "https://localhost:8080/",
     "height": 34
    },
    "colab_type": "code",
    "id": "qKEVIa0XVL70",
    "outputId": "00359c98-3f46-4107-91a9-672067f521c1"
   },
   "outputs": [
    {
     "name": "stdout",
     "output_type": "stream",
     "text": [
      "/content/drive/My Drive/text-review-generation-data2040/src/PPLM\n"
     ]
    }
   ],
   "source": [
    "%cd /content/drive/My Drive/text-review-generation-data2040/src/PPLM"
   ]
  },
  {
   "cell_type": "code",
   "execution_count": null,
   "metadata": {
    "colab": {
     "base_uri": "https://localhost:8080/",
     "height": 34
    },
    "colab_type": "code",
    "id": "01Y3LvLAWI2S",
    "outputId": "6c3c8ea2-b06b-41e4-bc11-cca1da5a8db2"
   },
   "outputs": [
    {
     "name": "stdout",
     "output_type": "stream",
     "text": [
      "/content/drive/My Drive/text-review-generation-data2040/src/PPLM\n"
     ]
    }
   ],
   "source": [
    "!pwd"
   ]
  },
  {
   "cell_type": "code",
   "execution_count": 2,
   "metadata": {
    "colab": {
     "base_uri": "https://localhost:8080/",
     "height": 104
    },
    "colab_type": "code",
    "id": "wovI243RYg--",
    "outputId": "871e7d19-ed5f-4cf8-f458-68cb304f52ff"
   },
   "outputs": [],
   "source": [
    "!pip install -q transformers"
   ]
  },
  {
   "cell_type": "code",
   "execution_count": 49,
   "metadata": {},
   "outputs": [
    {
     "name": "stdout",
     "output_type": "stream",
     "text": [
      "Tue May 12 03:59:34 2020       \n",
      "+-----------------------------------------------------------------------------+\n",
      "| NVIDIA-SMI 418.87.01    Driver Version: 418.87.01    CUDA Version: 10.1     |\n",
      "|-------------------------------+----------------------+----------------------+\n",
      "| GPU  Name        Persistence-M| Bus-Id        Disp.A | Volatile Uncorr. ECC |\n",
      "| Fan  Temp  Perf  Pwr:Usage/Cap|         Memory-Usage | GPU-Util  Compute M. |\n",
      "|===============================+======================+======================|\n",
      "|   0  Tesla T4            Off  | 00000000:00:04.0 Off |                    0 |\n",
      "| N/A   69C    P0    32W /  70W |   1791MiB / 15079MiB |      0%      Default |\n",
      "+-------------------------------+----------------------+----------------------+\n",
      "                                                                               \n",
      "+-----------------------------------------------------------------------------+\n",
      "| Processes:                                                       GPU Memory |\n",
      "|  GPU       PID   Type   Process name                             Usage      |\n",
      "|=============================================================================|\n",
      "|    0      7588      C   /opt/conda/bin/python                       1781MiB |\n",
      "+-----------------------------------------------------------------------------+\n"
     ]
    }
   ],
   "source": [
    "!nvidia-smi\n"
   ]
  },
  {
   "cell_type": "code",
   "execution_count": 16,
   "metadata": {
    "collapsed": true,
    "jupyter": {
     "outputs_hidden": true
    }
   },
   "outputs": [
    {
     "name": "stdout",
     "output_type": "stream",
     "text": [
      "Reading package lists... Done\n",
      "Building dependency tree       \n",
      "Reading state information... Done\n",
      "E: Unable to locate package libcupti-dev\n",
      "Collecting tensorflow-gpu==1.4.0\n",
      "  Downloading https://files.pythonhosted.org/packages/91/b5/5219622fa7c17197eb1611eaa045270737e1a57eb854ef5359aac7d79cd7/tensorflow_gpu-1.4.0-cp27-cp27mu-manylinux1_x86_64.whl (170.1MB)\n",
      "\u001b[K    100% |████████████████████████████████| 170.1MB 7.1kB/s eta 0:00:011\n",
      "\u001b[?25hCollecting mock>=2.0.0 (from tensorflow-gpu==1.4.0)\n",
      "  Downloading https://files.pythonhosted.org/packages/05/d2/f94e68be6b17f46d2c353564da56e6fb89ef09faeeff3313a046cb810ca9/mock-3.0.5-py2.py3-none-any.whl\n",
      "Collecting tensorflow-tensorboard<0.5.0,>=0.4.0rc1 (from tensorflow-gpu==1.4.0)\n",
      "  Downloading https://files.pythonhosted.org/packages/64/cd/f3d14d441eb1c5228aaf7e12e8e94895ae73e9af50383e481610b34357bd/tensorflow_tensorboard-0.4.0-py2-none-any.whl (1.7MB)\n",
      "\u001b[K    100% |████████████████████████████████| 1.7MB 790kB/s eta 0:00:01\n",
      "\u001b[?25hCollecting numpy>=1.12.1 (from tensorflow-gpu==1.4.0)\n",
      "  Downloading https://files.pythonhosted.org/packages/3a/5f/47e578b3ae79e2624e205445ab77a1848acdaa2929a00eeef6b16eaaeb20/numpy-1.16.6-cp27-cp27mu-manylinux1_x86_64.whl (17.0MB)\n",
      "\u001b[K    100% |████████████████████████████████| 17.0MB 72kB/s  eta 0:00:011\n",
      "\u001b[?25hCollecting backports.weakref>=1.0rc1 (from tensorflow-gpu==1.4.0)\n",
      "  Downloading https://files.pythonhosted.org/packages/88/ec/f598b633c3d5ffe267aaada57d961c94fdfa183c5c3ebda2b6d151943db6/backports.weakref-1.0.post1-py2.py3-none-any.whl\n",
      "Collecting wheel (from tensorflow-gpu==1.4.0)\n",
      "  Downloading https://files.pythonhosted.org/packages/8c/23/848298cccf8e40f5bbb59009b32848a4c38f4e7f3364297ab3c3e2e2cd14/wheel-0.34.2-py2.py3-none-any.whl\n",
      "Collecting six>=1.10.0 (from tensorflow-gpu==1.4.0)\n",
      "  Downloading https://files.pythonhosted.org/packages/65/eb/1f97cb97bfc2390a276969c6fae16075da282f5058082d4cb10c6c5c1dba/six-1.14.0-py2.py3-none-any.whl\n",
      "Collecting protobuf>=3.3.0 (from tensorflow-gpu==1.4.0)\n",
      "  Downloading https://files.pythonhosted.org/packages/f5/cc/9180fa1f97ad122d92cfbff413bcd0be4bd3efee284a5fb6344670220709/protobuf-3.11.3-cp27-cp27mu-manylinux1_x86_64.whl (1.3MB)\n",
      "\u001b[K    100% |████████████████████████████████| 1.3MB 1.0MB/s eta 0:00:01\n",
      "\u001b[?25hCollecting enum34>=1.1.6 (from tensorflow-gpu==1.4.0)\n",
      "  Downloading https://files.pythonhosted.org/packages/6f/2c/a9386903ece2ea85e9807e0e062174dc26fdce8b05f216d00491be29fad5/enum34-1.1.10-py2-none-any.whl\n",
      "Collecting funcsigs>=1; python_version < \"3.3\" (from mock>=2.0.0->tensorflow-gpu==1.4.0)\n",
      "  Downloading https://files.pythonhosted.org/packages/69/cb/f5be453359271714c01b9bd06126eaf2e368f1fddfff30818754b5ac2328/funcsigs-1.0.2-py2.py3-none-any.whl\n",
      "Collecting bleach==1.5.0 (from tensorflow-tensorboard<0.5.0,>=0.4.0rc1->tensorflow-gpu==1.4.0)\n",
      "  Downloading https://files.pythonhosted.org/packages/33/70/86c5fec937ea4964184d4d6c4f0b9551564f821e1c3575907639036d9b90/bleach-1.5.0-py2.py3-none-any.whl\n",
      "Collecting markdown>=2.6.8 (from tensorflow-tensorboard<0.5.0,>=0.4.0rc1->tensorflow-gpu==1.4.0)\n",
      "  Downloading https://files.pythonhosted.org/packages/c0/4e/fd492e91abdc2d2fcb70ef453064d980688762079397f779758e055f6575/Markdown-3.1.1-py2.py3-none-any.whl (87kB)\n",
      "\u001b[K    100% |████████████████████████████████| 92kB 11.2MB/s ta 0:00:01\n",
      "\u001b[?25hCollecting futures>=3.1.1; python_version < \"3.2\" (from tensorflow-tensorboard<0.5.0,>=0.4.0rc1->tensorflow-gpu==1.4.0)\n",
      "  Downloading https://files.pythonhosted.org/packages/d8/a6/f46ae3f1da0cd4361c344888f59ec2f5785e69c872e175a748ef6071cdb5/futures-3.3.0-py2-none-any.whl\n",
      "Collecting html5lib==0.9999999 (from tensorflow-tensorboard<0.5.0,>=0.4.0rc1->tensorflow-gpu==1.4.0)\n",
      "  Downloading https://files.pythonhosted.org/packages/ae/ae/bcb60402c60932b32dfaf19bb53870b29eda2cd17551ba5639219fb5ebf9/html5lib-0.9999999.tar.gz (889kB)\n",
      "\u001b[K    100% |████████████████████████████████| 890kB 1.5MB/s eta 0:00:01\n",
      "\u001b[?25hCollecting werkzeug>=0.11.10 (from tensorflow-tensorboard<0.5.0,>=0.4.0rc1->tensorflow-gpu==1.4.0)\n",
      "  Downloading https://files.pythonhosted.org/packages/cc/94/5f7079a0e00bd6863ef8f1da638721e9da21e5bacee597595b318f71d62e/Werkzeug-1.0.1-py2.py3-none-any.whl (298kB)\n",
      "\u001b[K    100% |████████████████████████████████| 307kB 4.0MB/s eta 0:00:01\n",
      "\u001b[?25hCollecting setuptools (from protobuf>=3.3.0->tensorflow-gpu==1.4.0)\n",
      "  Downloading https://files.pythonhosted.org/packages/ab/b5/3679d7c98be5b65fa5522671ef437b792d909cf3908ba54fe9eca5d2a766/setuptools-44.1.0-py2.py3-none-any.whl (583kB)\n",
      "\u001b[K    100% |████████████████████████████████| 583kB 2.2MB/s eta 0:00:011\n",
      "\u001b[?25hBuilding wheels for collected packages: html5lib\n",
      "  Running setup.py bdist_wheel for html5lib ... \u001b[?25ldone\n",
      "\u001b[?25h  Stored in directory: /root/.cache/pip/wheels/50/ae/f9/d2b189788efcf61d1ee0e36045476735c838898eef1cad6e29\n",
      "Successfully built html5lib\n",
      "Installing collected packages: funcsigs, six, mock, html5lib, bleach, wheel, setuptools, markdown, numpy, futures, protobuf, werkzeug, tensorflow-tensorboard, backports.weakref, enum34, tensorflow-gpu\n",
      "  Found existing installation: six 1.10.0\n",
      "    Not uninstalling six at /usr/lib/python2.7/dist-packages, outside environment /usr\n",
      "  Found existing installation: wheel 0.29.0\n",
      "    Not uninstalling wheel at /usr/lib/python2.7/dist-packages, outside environment /usr\n",
      "  Found existing installation: setuptools 33.1.1\n",
      "    Not uninstalling setuptools at /usr/lib/python2.7/dist-packages, outside environment /usr\n",
      "  Found existing installation: enum34 1.1.6\n",
      "    Not uninstalling enum34 at /usr/lib/python2.7/dist-packages, outside environment /usr\n",
      "Successfully installed backports.weakref-1.0.post1 bleach-1.5.0 enum34-1.1.10 funcsigs-1.0.2 futures-3.3.0 html5lib-0.9999999 markdown-3.1.1 mock-3.0.5 numpy-1.16.6 protobuf-3.11.3 setuptools-44.1.0 six-1.14.0 tensorflow-gpu-1.4.0 tensorflow-tensorboard-0.4.0 werkzeug-1.0.1 wheel-0.34.2\n"
     ]
    }
   ],
   "source": [
    "!sudo apt-get install python-dev python-pip libcupti-dev\n",
    "!sudo pip install --upgrade tensorflow-gpu==1.4.0"
   ]
  },
  {
   "cell_type": "markdown",
   "metadata": {},
   "source": [
    "```\n",
    "In [1]: import torch\n",
    "\n",
    "In [2]: torch.cuda.current_device()\n",
    "Out[2]: 0\n",
    "\n",
    "In [3]: torch.cuda.device(0)\n",
    "Out[3]: <torch.cuda.device at 0x7efce0b03be0>\n",
    "\n",
    "In [4]: torch.cuda.device_count()\n",
    "Out[4]: 1\n",
    "\n",
    "In [5]: torch.cuda.get_device_name(0)\n",
    "Out[5]: 'GeForce GTX 950M'\n",
    "\n",
    "In [6]: torch.cuda.is_available()\n",
    "Out[6]: True\n",
    "```"
   ]
  },
  {
   "cell_type": "code",
   "execution_count": 27,
   "metadata": {},
   "outputs": [
    {
     "data": {
      "text/plain": [
       "True"
      ]
     },
     "execution_count": 27,
     "metadata": {},
     "output_type": "execute_result"
    }
   ],
   "source": [
    "import torch\n",
    "torch.cuda.current_device()\n",
    "torch.cuda.device(0)\n",
    "torch.cuda.device_count()\n",
    "torch.cuda.get_device_name(0)\n",
    "torch.cuda.is_available()"
   ]
  },
  {
   "cell_type": "code",
   "execution_count": 29,
   "metadata": {},
   "outputs": [
    {
     "name": "stdout",
     "output_type": "stream",
     "text": [
      "Cloning into 'tensorflow-inference-tensorrt5-t4-gpu'...\n",
      "remote: Enumerating objects: 17, done.\u001b[K\n",
      "remote: Total 17 (delta 0), reused 0 (delta 0), pack-reused 17\u001b[K\n",
      "Unpacking objects: 100% (17/17), done.\n"
     ]
    }
   ],
   "source": [
    "!git clone https://github.com/GoogleCloudPlatform/tensorflow-inference-tensorrt5-t4-gpu.git"
   ]
  },
  {
   "cell_type": "code",
   "execution_count": null,
   "metadata": {
    "colab": {
     "base_uri": "https://localhost:8080/",
     "height": 486
    },
    "colab_type": "code",
    "id": "lFKGJ6YAWPWE",
    "outputId": "995fa7d3-1fe9-4417-b39e-864feae4857e"
   },
   "outputs": [
    {
     "name": "stdout",
     "output_type": "stream",
     "text": [
      "Preprocessing generic dataset...\n",
      "9704140it [00:26, 363773.12it/s]\n",
      "4709046it [19:16, 4525.99it/s]Train Epoch: 1 [51328/8733726 (1%)]\tLoss: 1.067744\n",
      "Train Epoch: 1 [64128/8733726 (1%)]\tLoss: 0.963370\n",
      "Train Epoch: 1 [76928/8733726 (1%)]\tLoss: 0.937476\n",
      "Train Epoch: 1 [89728/8733726 (1%)]\tLoss: 1.105866\n",
      "Train Epoch: 1 [102528/8733726 (1%)]\tLoss: 1.133888\n",
      "Train Epoch: 1 [115328/8733726 (1%)]\tLoss: 0.974853\n",
      "Train Epoch: 1 [128128/8733726 (1%)]\tLoss: 0.854877\n",
      "Train Epoch: 1 [140928/8733726 (2%)]\tLoss: 1.017734\n"
     ]
    }
   ],
   "source": [
    "# !python3 run_pplm_discrim_train.py --dataset='generic' --save_model --dataset_fp='/content/drive/My Drive/text-review-generation-data2040/data/Industrial_and_Scientific_5_truncated.tsv' --pretrained_model='gpt2' --epochs=1 --log_interval=100 --batch_size=128\n",
    "!python3 run_pplm_discrim_train.py --dataset='generic' --save_model --dataset_fp='Clothing_Shoes_and_Jewelry_5_truncated.tsv' --pretrained_model='gpt2' --epochs=10 --log_interval=100 --batch_size=128\n"
   ]
  },
  {
   "cell_type": "code",
   "execution_count": 18,
   "metadata": {
    "colab": {
     "base_uri": "https://localhost:8080/",
     "height": 176
    },
    "colab_type": "code",
    "id": "jjTrxSlycvd8",
    "outputId": "d5dcb9cc-4586-419b-fa6f-2204280c2bda"
   },
   "outputs": [
    {
     "name": "stderr",
     "output_type": "stream",
     "text": [
      "/opt/conda/lib/python3.7/site-packages/dask/dataframe/core.py:3076: UserWarning: \n",
      "You did not provide metadata, so Dask is running your function on a small dataset to guess output types. It is possible that Dask will guess incorrectly.\n",
      "To provide an explicit output types or to silence this message, please provide the `meta=` keyword, as described in the map or apply function that you are using.\n",
      "  Before: .apply(func)\n",
      "  After:  .apply(func, meta=('text', 'object'))\n",
      "\n",
      "  warnings.warn(meta_warning(meta))\n"
     ]
    },
    {
     "data": {
      "text/plain": [
       "['/home/jupyter/Industrial_and_Scientific_5_toy.tsv']"
      ]
     },
     "execution_count": 18,
     "metadata": {},
     "output_type": "execute_result"
    }
   ],
   "source": [
    "import dask\n",
    "import dask.dataframe as dd\n",
    "import pandas as pd\n",
    "\n",
    "# df = dd.read_csv('/content/drive/My Drive/text-review-generation-data2040/data/Industrial_and_Scientific_5.tsv', sep='\\t')\n",
    "df = dd.read_csv('Industrial_and_Scientific_5.tsv', sep='\\t')\n",
    "# df['text'] = df['text'].astype(str).apply(lambda x: x[:1024])\n",
    "df['text'] = df['text'].astype(str).apply(lambda x: x[:100])\n",
    "df['rating'] = df['rating'].astype(int)\n",
    "# df.to_csv('/content/drive/My Drive/text-review-generation-data2040/data/Industrial_and_Scientific_5_truncated.tsv', sep = '\\t', single_file = True, header=False, index=False)\n",
    "df.to_csv('Industrial_and_Scientific_5_toy.tsv', sep = '\\t', single_file = True, header=False, index=False)\n",
    "\n"
   ]
  },
  {
   "cell_type": "code",
   "execution_count": 9,
   "metadata": {},
   "outputs": [
    {
     "name": "stdout",
     "output_type": "stream",
     "text": [
      "^C\n"
     ]
    }
   ],
   "source": [
    "# not using this anymore\n",
    "!shuf -n 1000000 Clothing_Shoes_and_Jewelry_5_truncated.tsv >  Clothing_Shoes_and_Jewelry_5_small.tsv"
   ]
  },
  {
   "cell_type": "code",
   "execution_count": 1,
   "metadata": {},
   "outputs": [],
   "source": [
    "import dask\n",
    "import dask.dataframe as dd\n",
    "import pandas as pd\n",
    "df=pd.to_csv('Clothing_Shoes_and_Jewelry_5_truncated.tsv', sep='\\t')"
   ]
  },
  {
   "cell_type": "code",
   "execution_count": 10,
   "metadata": {},
   "outputs": [],
   "source": [
    "df_sample = df.sample(frac=0.1)\n",
    "df_sample.to_csv('Clothing_Shoes_and_Jewelry_5_small.tsv', sep = '\\t', header=False, index=False)"
   ]
  },
  {
   "cell_type": "code",
   "execution_count": 28,
   "metadata": {},
   "outputs": [
    {
     "data": {
      "text/plain": [
       "5    602972\n",
       "4    180484\n",
       "3     92233\n",
       "2     48767\n",
       "1     45958\n",
       "Name: 5, dtype: int64"
      ]
     },
     "execution_count": 28,
     "metadata": {},
     "output_type": "execute_result"
    }
   ],
   "source": [
    "df_sample['5'].value_counts()"
   ]
  },
  {
   "cell_type": "code",
   "execution_count": 26,
   "metadata": {},
   "outputs": [
    {
     "data": {
      "text/plain": [
       "[0.6213554215005143,\n",
       " 0.18598659953380722,\n",
       " 0.09504500141176858,\n",
       " 0.05025380919896044,\n",
       " 0.047359168354949535]"
      ]
     },
     "execution_count": 26,
     "metadata": {},
     "output_type": "execute_result"
    }
   ],
   "source": [
    "x = [ 5,4,3,2,1]\n",
    "y = [602972, 180484, 92233, 48767,45958]\n",
    "\n",
    "[val/sum(y) for val in y]"
   ]
  },
  {
   "cell_type": "code",
   "execution_count": 24,
   "metadata": {},
   "outputs": [
    {
     "data": {
      "image/png": "[encoded data removed]",
      "text/plain": [
       "<Figure size 720x504 with 1 Axes>"
      ]
     },
     "metadata": {
      "needs_background": "light"
     },
     "output_type": "display_data"
    }
   ],
   "source": [
    "import seaborn as sns\n",
    "import matplotlib.pyplot as plt\n",
    "\n",
    "plt.figure(figsize=(10,7))\n",
    "plt.suptitle(\"Review Class Balances\", fontsize=20)\n",
    "plt.xlabel(\"Review Rating\", fontsize=14)\n",
    "plt.ylabel(\"Count\", fontsize=14)\n",
    "sns.barplot(x,y)\n",
    "plt.savefig(\"class_balances.jpg\")"
   ]
  },
  {
   "cell_type": "code",
   "execution_count": 11,
   "metadata": {},
   "outputs": [
    {
     "name": "stdout",
     "output_type": "stream",
     "text": [
      "970507\n"
     ]
    }
   ],
   "source": [
    "!cat Clothing_Shoes_and_Jewelry_5_small.tsv | wc -l"
   ]
  },
  {
   "cell_type": "code",
   "execution_count": 12,
   "metadata": {},
   "outputs": [
    {
     "name": "stdout",
     "output_type": "stream",
     "text": [
      "Preprocessing generic dataset...\n",
      "970414it [00:01, 524364.59it/s]\n",
      "970414it [03:58, 4068.94it/s]\n",
      "5\n",
      "{'1': 0, '2': 1, '3': 2, '4': 3, '5': 4}\n",
      "Preprocessed 970414 data points\n",
      "Data preprocessing took: 255.419s\n",
      "\n",
      "Epoch 1\n",
      "Train Epoch: 1 [64/873372 (0%)]\tLoss: 5.226584\n",
      "Train Epoch: 1 [6464/873372 (1%)]\tLoss: 0.987452\n",
      "Train Epoch: 1 [12864/873372 (1%)]\tLoss: 1.196961\n",
      "Train Epoch: 1 [19264/873372 (2%)]\tLoss: 0.928686\n",
      "Train Epoch: 1 [25664/873372 (3%)]\tLoss: 1.109504\n",
      "Train Epoch: 1 [32064/873372 (4%)]\tLoss: 1.010450\n",
      "Train Epoch: 1 [38464/873372 (4%)]\tLoss: 1.034265\n",
      "Train Epoch: 1 [44864/873372 (5%)]\tLoss: 0.896333\n",
      "Train Epoch: 1 [51264/873372 (6%)]\tLoss: 0.910013\n",
      "Train Epoch: 1 [57664/873372 (7%)]\tLoss: 1.018288\n",
      "Train Epoch: 1 [64064/873372 (7%)]\tLoss: 0.947400\n",
      "Train Epoch: 1 [70464/873372 (8%)]\tLoss: 0.887884\n",
      "Train Epoch: 1 [76864/873372 (9%)]\tLoss: 1.056939\n",
      "Train Epoch: 1 [83264/873372 (10%)]\tLoss: 0.903180\n",
      "Train Epoch: 1 [89664/873372 (10%)]\tLoss: 0.880834\n",
      "Train Epoch: 1 [96064/873372 (11%)]\tLoss: 1.013689\n",
      "Train Epoch: 1 [102464/873372 (12%)]\tLoss: 0.964645\n",
      "Train Epoch: 1 [108864/873372 (12%)]\tLoss: 0.917128\n",
      "Train Epoch: 1 [115264/873372 (13%)]\tLoss: 1.012405\n",
      "Train Epoch: 1 [121664/873372 (14%)]\tLoss: 0.885661\n",
      "Train Epoch: 1 [128064/873372 (15%)]\tLoss: 0.777897\n",
      "Train Epoch: 1 [134464/873372 (15%)]\tLoss: 0.953373\n",
      "Train Epoch: 1 [140864/873372 (16%)]\tLoss: 1.045314\n",
      "Train Epoch: 1 [147264/873372 (17%)]\tLoss: 0.898909\n",
      "Train Epoch: 1 [153664/873372 (18%)]\tLoss: 1.057983\n",
      "Train Epoch: 1 [160064/873372 (18%)]\tLoss: 0.724933\n",
      "Train Epoch: 1 [166464/873372 (19%)]\tLoss: 0.773078\n",
      "Train Epoch: 1 [172864/873372 (20%)]\tLoss: 0.814281\n",
      "Train Epoch: 1 [179264/873372 (21%)]\tLoss: 0.752867\n",
      "Train Epoch: 1 [185664/873372 (21%)]\tLoss: 0.789741\n",
      "Train Epoch: 1 [192064/873372 (22%)]\tLoss: 0.748910\n",
      "Train Epoch: 1 [198464/873372 (23%)]\tLoss: 0.698617\n",
      "Train Epoch: 1 [204864/873372 (23%)]\tLoss: 1.065995\n",
      "Train Epoch: 1 [211264/873372 (24%)]\tLoss: 0.793453\n",
      "Train Epoch: 1 [217664/873372 (25%)]\tLoss: 0.840781\n",
      "Train Epoch: 1 [224064/873372 (26%)]\tLoss: 0.782112\n",
      "Train Epoch: 1 [230464/873372 (26%)]\tLoss: 0.847659\n",
      "Train Epoch: 1 [236864/873372 (27%)]\tLoss: 0.691167\n",
      "Train Epoch: 1 [243264/873372 (28%)]\tLoss: 0.791813\n",
      "Train Epoch: 1 [249664/873372 (29%)]\tLoss: 0.870570\n",
      "Train Epoch: 1 [256064/873372 (29%)]\tLoss: 1.026192\n",
      "Train Epoch: 1 [262464/873372 (30%)]\tLoss: 0.770203\n",
      "Train Epoch: 1 [268864/873372 (31%)]\tLoss: 0.774697\n",
      "Train Epoch: 1 [275264/873372 (32%)]\tLoss: 0.682897\n",
      "Train Epoch: 1 [281664/873372 (32%)]\tLoss: 0.811732\n",
      "Train Epoch: 1 [288064/873372 (33%)]\tLoss: 0.695276\n",
      "Train Epoch: 1 [294464/873372 (34%)]\tLoss: 0.850977\n",
      "Train Epoch: 1 [300864/873372 (34%)]\tLoss: 0.836573\n",
      "Train Epoch: 1 [307264/873372 (35%)]\tLoss: 0.751486\n",
      "Train Epoch: 1 [313664/873372 (36%)]\tLoss: 0.840673\n",
      "Train Epoch: 1 [320064/873372 (37%)]\tLoss: 0.823381\n",
      "Train Epoch: 1 [326464/873372 (37%)]\tLoss: 0.897341\n",
      "Train Epoch: 1 [332864/873372 (38%)]\tLoss: 0.800753\n",
      "Train Epoch: 1 [339264/873372 (39%)]\tLoss: 0.748397\n",
      "Train Epoch: 1 [345664/873372 (40%)]\tLoss: 0.912490\n",
      "Train Epoch: 1 [352064/873372 (40%)]\tLoss: 0.733878\n",
      "Train Epoch: 1 [358464/873372 (41%)]\tLoss: 0.881277\n",
      "Train Epoch: 1 [364864/873372 (42%)]\tLoss: 0.728455\n",
      "Train Epoch: 1 [371264/873372 (43%)]\tLoss: 0.957465\n",
      "Train Epoch: 1 [377664/873372 (43%)]\tLoss: 0.744305\n",
      "Train Epoch: 1 [384064/873372 (44%)]\tLoss: 0.953011\n",
      "Train Epoch: 1 [390464/873372 (45%)]\tLoss: 0.914617\n",
      "Train Epoch: 1 [396864/873372 (45%)]\tLoss: 0.651910\n",
      "Train Epoch: 1 [403264/873372 (46%)]\tLoss: 1.040454\n",
      "Train Epoch: 1 [409664/873372 (47%)]\tLoss: 0.824548\n",
      "Train Epoch: 1 [416064/873372 (48%)]\tLoss: 0.917037\n",
      "Train Epoch: 1 [422464/873372 (48%)]\tLoss: 0.564984\n",
      "Train Epoch: 1 [428864/873372 (49%)]\tLoss: 0.810103\n",
      "Train Epoch: 1 [435264/873372 (50%)]\tLoss: 0.867228\n",
      "Train Epoch: 1 [441664/873372 (51%)]\tLoss: 0.874561\n",
      "Train Epoch: 1 [448064/873372 (51%)]\tLoss: 0.499114\n",
      "Train Epoch: 1 [454464/873372 (52%)]\tLoss: 0.684123\n",
      "Train Epoch: 1 [460864/873372 (53%)]\tLoss: 0.849561\n",
      "Train Epoch: 1 [467264/873372 (54%)]\tLoss: 0.848655\n",
      "Train Epoch: 1 [473664/873372 (54%)]\tLoss: 0.881889\n",
      "Train Epoch: 1 [480064/873372 (55%)]\tLoss: 0.694188\n",
      "Train Epoch: 1 [486464/873372 (56%)]\tLoss: 0.969727\n",
      "Train Epoch: 1 [492864/873372 (56%)]\tLoss: 0.903438\n",
      "Train Epoch: 1 [499264/873372 (57%)]\tLoss: 0.761740\n",
      "Train Epoch: 1 [505664/873372 (58%)]\tLoss: 0.760472\n",
      "Train Epoch: 1 [512064/873372 (59%)]\tLoss: 0.841409\n",
      "Train Epoch: 1 [518464/873372 (59%)]\tLoss: 1.051526\n",
      "Train Epoch: 1 [524864/873372 (60%)]\tLoss: 0.761398\n",
      "Train Epoch: 1 [531264/873372 (61%)]\tLoss: 0.795815\n",
      "Train Epoch: 1 [537664/873372 (62%)]\tLoss: 0.744668\n",
      "Train Epoch: 1 [544064/873372 (62%)]\tLoss: 0.824281\n",
      "Train Epoch: 1 [550464/873372 (63%)]\tLoss: 0.645822\n",
      "Train Epoch: 1 [556864/873372 (64%)]\tLoss: 0.847512\n",
      "Train Epoch: 1 [563264/873372 (64%)]\tLoss: 0.697640\n",
      "Train Epoch: 1 [569664/873372 (65%)]\tLoss: 0.621256\n",
      "Train Epoch: 1 [576064/873372 (66%)]\tLoss: 0.462096\n",
      "Train Epoch: 1 [582464/873372 (67%)]\tLoss: 0.852211\n",
      "Train Epoch: 1 [588864/873372 (67%)]\tLoss: 0.640385\n",
      "Train Epoch: 1 [595264/873372 (68%)]\tLoss: 0.647206\n",
      "Train Epoch: 1 [601664/873372 (69%)]\tLoss: 0.724608\n",
      "Train Epoch: 1 [608064/873372 (70%)]\tLoss: 0.797178\n",
      "Train Epoch: 1 [614464/873372 (70%)]\tLoss: 0.699587\n",
      "Train Epoch: 1 [620864/873372 (71%)]\tLoss: 0.682571\n",
      "Train Epoch: 1 [627264/873372 (72%)]\tLoss: 0.782363\n",
      "Train Epoch: 1 [633664/873372 (73%)]\tLoss: 0.866503\n",
      "Train Epoch: 1 [640064/873372 (73%)]\tLoss: 0.864854\n",
      "Train Epoch: 1 [646464/873372 (74%)]\tLoss: 0.809001\n",
      "Train Epoch: 1 [652864/873372 (75%)]\tLoss: 0.753913\n",
      "Train Epoch: 1 [659264/873372 (75%)]\tLoss: 0.823369\n",
      "Train Epoch: 1 [665664/873372 (76%)]\tLoss: 0.754953\n",
      "Train Epoch: 1 [672064/873372 (77%)]\tLoss: 0.784569\n",
      "Train Epoch: 1 [678464/873372 (78%)]\tLoss: 0.805147\n",
      "Train Epoch: 1 [684864/873372 (78%)]\tLoss: 0.757347\n",
      "Train Epoch: 1 [691264/873372 (79%)]\tLoss: 0.729194\n",
      "Train Epoch: 1 [697664/873372 (80%)]\tLoss: 0.748844\n",
      "Train Epoch: 1 [704064/873372 (81%)]\tLoss: 0.846674\n",
      "Train Epoch: 1 [710464/873372 (81%)]\tLoss: 0.910740\n",
      "Train Epoch: 1 [716864/873372 (82%)]\tLoss: 0.792484\n",
      "Train Epoch: 1 [723264/873372 (83%)]\tLoss: 0.858426\n",
      "Train Epoch: 1 [729664/873372 (84%)]\tLoss: 0.657916\n",
      "Train Epoch: 1 [736064/873372 (84%)]\tLoss: 0.764480\n",
      "Train Epoch: 1 [742464/873372 (85%)]\tLoss: 0.953780\n",
      "Train Epoch: 1 [748864/873372 (86%)]\tLoss: 0.662925\n",
      "Train Epoch: 1 [755264/873372 (86%)]\tLoss: 0.713603\n",
      "Train Epoch: 1 [761664/873372 (87%)]\tLoss: 0.684194\n",
      "Train Epoch: 1 [768064/873372 (88%)]\tLoss: 0.814741\n",
      "Train Epoch: 1 [774464/873372 (89%)]\tLoss: 0.629030\n",
      "Train Epoch: 1 [780864/873372 (89%)]\tLoss: 0.881432\n",
      "Train Epoch: 1 [787264/873372 (90%)]\tLoss: 0.854515\n",
      "Train Epoch: 1 [793664/873372 (91%)]\tLoss: 0.774075\n",
      "Train Epoch: 1 [800064/873372 (92%)]\tLoss: 0.699254\n",
      "Train Epoch: 1 [806464/873372 (92%)]\tLoss: 0.990446\n",
      "Train Epoch: 1 [812864/873372 (93%)]\tLoss: 0.711633\n",
      "Train Epoch: 1 [819264/873372 (94%)]\tLoss: 0.683711\n",
      "Train Epoch: 1 [825664/873372 (95%)]\tLoss: 0.636248\n",
      "Train Epoch: 1 [832064/873372 (95%)]\tLoss: 0.734143\n",
      "Train Epoch: 1 [838464/873372 (96%)]\tLoss: 0.857507\n",
      "Train Epoch: 1 [844864/873372 (97%)]\tLoss: 0.731257\n",
      "Train Epoch: 1 [851264/873372 (97%)]\tLoss: 0.849823\n",
      "Train Epoch: 1 [857664/873372 (98%)]\tLoss: 0.894345\n",
      "Train Epoch: 1 [864064/873372 (99%)]\tLoss: 0.697085\n",
      "Train Epoch: 1 [870464/873372 (100%)]\tLoss: 0.843605\n",
      "Performance on test set: Average loss: 0.7751, Accuracy: 67166/97042 (69%)\n",
      "Epoch took: 14090.826s\n",
      "\n",
      "Example prediction\n",
      "Input sentence: This is incredible! I love it, this is the best chicken I have ever had.\n",
      "Predictions: 1: 0.0003, 2: 0.0002, 3: 0.0002, 4: 0.0047, 5: 0.9946\n",
      "Test performance per epoch\n",
      "epoch\tloss\tacc\n",
      "1\t0.775110938096439\t0.6921333031058717\n",
      "Min loss: 0.775110938096439 - Epoch: 1\n",
      "Max acc: 0.6921333031058717 - Epoch: 1\n"
     ]
    }
   ],
   "source": [
    "!python3 run_pplm_discrim_train.py --dataset='generic' --save_model --dataset_fp='Clothing_Shoes_and_Jewelry_5_small.tsv' --pretrained_model='gpt2' --epochs=1 --log_interval=100 --batch_size=64\n"
   ]
  },
  {
   "cell_type": "code",
   "execution_count": 29,
   "metadata": {
    "colab": {
     "base_uri": "https://localhost:8080/",
     "height": 116,
     "referenced_widgets": [
      "480faa6243d749a490e3e0b932cd0131",
      "df1f1a58788e4693a324a9dac11ff550",
      "79d45725b8554ad58a7b195434d9abbd",
      "c0a3245c53cf41ec848bb42374634701",
      "c7db0a07a23e4b07953a6073fec59ab1",
      "a3af69cd15e44eb5bfca34ca6bf00901",
      "277d67cf712946a38728067e1b797ea6",
      "03f415c0c64a4f97823f4360af1c6b79",
      "3d26d29ac6554b73971d3f803550ceec",
      "391946e89d11446684fa98cd8085dcad",
      "31833e2a6ca44cc7b954a2c6857ed91f",
      "8c7ca81029d2419cb728629f17b9ccb8",
      "503080c2a4e549e2888500c80adad972",
      "5776942e5e2c47c0a811dc6a7db532e3",
      "21420668d6704cf6a913d940a2db16a7",
      "cd66de3ec1b64ac8afdfd849622f0dba"
     ]
    },
    "colab_type": "code",
    "id": "7S_u_fFq455H",
    "outputId": "46b372c2-5615-43a9-df1d-3e7d3c63c4d2"
   },
   "outputs": [],
   "source": [
    "from transformers.modeling_gpt2 import GPT2LMHeadModel\n",
    "_ = GPT2LMHeadModel.from_pretrained(\"gpt2\")"
   ]
  },
  {
   "cell_type": "code",
   "execution_count": 28,
   "metadata": {
    "colab": {},
    "colab_type": "code",
    "id": "nu0_yrVW5Oyu"
   },
   "outputs": [],
   "source": [
    "from run_pplm import run_pplm_example"
   ]
  },
  {
   "cell_type": "code",
   "execution_count": 47,
   "metadata": {
    "colab": {},
    "colab_type": "code",
    "id": "oIvcGZz7ZfM6"
   },
   "outputs": [
    {
     "name": "stdout",
     "output_type": "stream",
     "text": [
      "= Prefix of sentence =\n",
      "<|endoftext|>This food\n",
      "\n",
      "= Unperturbed generated text =\n",
      "<|endoftext|>This food is delicious! It tastes like real chicken, but has an amazing flavor! It's so good that I don't even have to eat it in a restaurant. It tastes like rice and the texture is so delicious! It's also a great option to\n",
      "\n",
      "= Perturbed generated text 1 =\n",
      "<|endoftext|>This food-safety inspector warned this year that the industry warned of health hazards of the tainted rice paste.\n",
      "\n",
      "\n",
      "The rice paste paste made by B.C. rice producer Bao Dong was used in a fatal accident in Surrey, B.C.,\n",
      "\n",
      "= Perturbed generated text 2 =\n",
      "<|endoftext|>This food safety report shows a child died in Myanmar village near Kota village, near Myanmar, Myanmar, on Monday, 11 January. The girl died after she was found dead in her home, a police spokesman said.\n",
      "\n",
      "The child was taken to the\n",
      "\n",
      "= Perturbed generated text 3 =\n",
      "<|endoftext|>This food stamp program began in the late 1990s, when President George H.W. Bush was elected. But now it has grown rapidly. Since 1990, however, it has expanded only fourfold in scope — and has expanded to seven times faster — and\n",
      "\n"
     ]
    }
   ],
   "source": [
    "# discriminator or bag of words\n",
    "# this contains the checkpointed weights of the trained discriminator: generic_classifier_head_epoch_1.pt\n",
    "# discrim: generic covers format of first column being label and 2nd column being text, but we can choose discrim to be other trained classes\n",
    "run_pplm_example(\n",
    "    cond_text=\"This food\",\n",
    "    num_samples=3,\n",
    "    pretrained_model='gpt2',\n",
    "    discrim_weights='generic_classifier_head_epoch_1.pt',\n",
    "    discrim_meta='generic_classifier_head_meta.json',\n",
    "    discrim='generic',\n",
    "    class_label='1',\n",
    "#     bag_of_words='Prime',\n",
    "    length=50,\n",
    "    stepsize=0.90,\n",
    "    sample=True,\n",
    "    num_iterations=1,\n",
    "    gamma=1,\n",
    "    gm_scale=0.9,\n",
    "    kl_scale=0.02,\n",
    "    verbosity='quiet'\n",
    ")"
   ]
  },
  {
   "cell_type": "code",
   "execution_count": 39,
   "metadata": {
    "colab": {
     "base_uri": "https://localhost:8080/",
     "height": 367
    },
    "colab_type": "code",
    "id": "F0lh37jSYd5Y",
    "outputId": "da6e7417-54d2-43c6-94cb-e335f01e6bb3"
   },
   "outputs": [
    {
     "name": "stdout",
     "output_type": "stream",
     "text": [
      "= Prefix of sentence =\n",
      "<|endoftext|>These shoes\n",
      "\n",
      "= Unperturbed generated text =\n",
      "<|endoftext|>These shoes are rated T for Standard fit and quality. We recommend these shoes for all shoes and all levels of wear.\n",
      "\n",
      "\n",
      "The first pair of these is an excellent fit with the heel on. This is a true \"slip up\" shoe that is\n",
      "\n",
      "= Perturbed generated text 1 =\n",
      "<|endoftext|>These shoes are made of wool and are worn over the surface.\n",
      "\n",
      "A soft elastic is attached to the end of the outer of the shoe to the end of the inner lining of the upper of the upper of this shoe. These are the inner lining of\n",
      "\n",
      "= Perturbed generated text 2 =\n",
      "<|endoftext|>These shoes are made of polypropylylyleyl acetate (PPAR) and polypropylene poly polyethylene polypropyl acetate (PUPA). The sole was then hand washed with polyethylene.\n",
      "\n",
      "These shoes were washed with\n",
      "\n",
      "= Perturbed generated text 3 =\n",
      "<|endoftext|>These shoes are made from polyester or polypropyl polyhydroxyacetate, and are often not the least as good as the ones that they come in because they have a lace and not lace straps which makes them a bit more bulky and bulky compared to\n",
      "\n"
     ]
    }
   ],
   "source": [
    "# discriminator or bag of words\n",
    "# this contains the checkpointed weights of the trained discriminator: generic_classifier_head_epoch_1.pt\n",
    "# discrim: generic covers format of first column being label and 2nd column being text, but we can choose discrim to be other trained classes\n",
    "run_pplm_example(\n",
    "    cond_text=\"These shoes\",\n",
    "    num_samples=3,\n",
    "    pretrained_model='gpt2',\n",
    "    discrim_weights='generic_classifier_head_epoch_1.pt',\n",
    "    discrim_meta='generic_classifier_head_meta.json',\n",
    "    discrim='generic',\n",
    "    class_label='3',\n",
    "#     bag_of_words='Prime',\n",
    "    length=50,\n",
    "    stepsize=0.90,\n",
    "    sample=True,\n",
    "    num_iterations=1,\n",
    "    gamma=1,\n",
    "    gm_scale=0.9,\n",
    "    kl_scale=0.02,\n",
    "    verbosity='quiet'\n",
    ")"
   ]
  },
  {
   "cell_type": "code",
   "execution_count": 55,
   "metadata": {},
   "outputs": [
    {
     "name": "stdout",
     "output_type": "stream",
     "text": [
      "= Prefix of sentence =\n",
      "<|endoftext|>The dress is too small\n",
      "\n",
      "= Unperturbed generated text =\n",
      "<|endoftext|>The dress is too small to accommodate a woman who's wearing it. (Getty Images)\n",
      "\n",
      "The dress is too small to accommodate a woman who's wearing it.\n",
      "\n",
      "The dress has not fit my body at all. It is too small and the skirt is not\n",
      "\n",
      "= Perturbed generated text 1 =\n",
      "<|endoftext|>The dress is too small to fit a size large dress. The dress is also a bit of a bit too short for a man too short to fit a man's full-thigh-back, chest-thigh, and upper-back skirts and shorts that are too\n",
      "\n",
      "= Perturbed generated text 2 =\n",
      "<|endoftext|>The dress is too small to fit the dress to your own body to allow you to get the dress it up and make the cut. I don't make any of these any other than if you don't like the dress and don't like it. I like how you're\n",
      "\n",
      "= Perturbed generated text 3 =\n",
      "<|endoftext|>The dress is too small for my waist-line size, so I didn't add fabric for size\n",
      "\n",
      "\n",
      "X to X (3.5 - 4.5 mm):\n",
      "\n",
      "\n",
      "\n",
      "\n",
      "/ 5 mm x 8 mm, 5/16 - 12 - 14\n",
      "\n",
      "= Perturbed generated text 4 =\n",
      "<|endoftext|>The dress is too small to fit a large person's waistband size size to fit large men's or smaller, small and medium-large size, but still or to fit large and smaller men's sizes and to fit small men in your small sizes.\n",
      "\n",
      "The size\n",
      "\n",
      "= Perturbed generated text 5 =\n",
      "<|endoftext|>The dress is too small to fit all the people in it.\n",
      "The dress is a little over 4.5 in.5 inches. I have decided that I wanted to add a 2\"6.5 inch to fit to it for a couple more (4/5\n",
      "\n"
     ]
    }
   ],
   "source": [
    "# discriminator or bag of words\n",
    "# this contains the checkpointed weights of the trained discriminator: generic_classifier_head_epoch_1.pt\n",
    "# discrim: generic covers format of first column being label and 2nd column being text, but we can choose discrim to be other trained classes\n",
    "run_pplm_example(\n",
    "    cond_text=\"The dress is too small\",\n",
    "    num_samples=5,\n",
    "    pretrained_model='gpt2',\n",
    "    discrim_weights='generic_classifier_head_epoch_1.pt',\n",
    "    discrim_meta='generic_classifier_head_meta.json',\n",
    "    discrim='generic',\n",
    "    class_label='5',\n",
    "#     bag_of_words='Prime',\n",
    "    length=50,\n",
    "    stepsize=0.8,\n",
    "    sample=True,\n",
    "    num_iterations=1,\n",
    "    gamma=1,\n",
    "    gm_scale=0.9,\n",
    "    kl_scale=0.02,\n",
    "    verbosity='quiet'\n",
    ")"
   ]
  },
  {
   "cell_type": "code",
   "execution_count": null,
   "metadata": {},
   "outputs": [],
   "source": []
  }
 ],
 "metadata": {
  "accelerator": "GPU",
  "colab": {
   "collapsed_sections": [],
   "machine_shape": "hm",
   "name": "sentiment_based_finetuning.ipynb",
   "provenance": []
  },
  "environment": {
   "name": "pytorch-gpu.1-4.m46",
   "type": "gcloud",
   "uri": "gcr.io/deeplearning-platform-release/pytorch-gpu.1-4:m46"
  },
  "kernelspec": {
   "display_name": "Python 3",
   "language": "python",
   "name": "python3"
  },
  "language_info": {
   "codemirror_mode": {
    "name": "ipython",
    "version": 3
   },
   "file_extension": ".py",
   "mimetype": "text/x-python",
   "name": "python",
   "nbconvert_exporter": "python",
   "pygments_lexer": "ipython3",
   "version": "3.7.6"
  },
  "widgets": {
   "application/vnd.jupyter.widget-state+json": {
    "03f415c0c64a4f97823f4360af1c6b79": {
     "model_module": "@jupyter-widgets/base",
     "model_name": "LayoutModel",
     "state": {
      "_model_module": "@jupyter-widgets/base",
      "_model_module_version": "1.2.0",
      "_model_name": "LayoutModel",
      "_view_count": null,
      "_view_module": "@jupyter-widgets/base",
      "_view_module_version": "1.2.0",
      "_view_name": "LayoutView",
      "align_content": null,
      "align_items": null,
      "align_self": null,
      "border": null,
      "bottom": null,
      "display": null,
      "flex": null,
      "flex_flow": null,
      "grid_area": null,
      "grid_auto_columns": null,
      "grid_auto_flow": null,
      "grid_auto_rows": null,
      "grid_column": null,
      "grid_gap": null,
      "grid_row": null,
      "grid_template_areas": null,
      "grid_template_columns": null,
      "grid_template_rows": null,
      "height": null,
      "justify_content": null,
      "justify_items": null,
      "left": null,
      "margin": null,
      "max_height": null,
      "max_width": null,
      "min_height": null,
      "min_width": null,
      "object_fit": null,
      "object_position": null,
      "order": null,
      "overflow": null,
      "overflow_x": null,
      "overflow_y": null,
      "padding": null,
      "right": null,
      "top": null,
      "visibility": null,
      "width": null
     }
    },
    "21420668d6704cf6a913d940a2db16a7": {
     "model_module": "@jupyter-widgets/controls",
     "model_name": "DescriptionStyleModel",
     "state": {
      "_model_module": "@jupyter-widgets/controls",
      "_model_module_version": "1.5.0",
      "_model_name": "DescriptionStyleModel",
      "_view_count": null,
      "_view_module": "@jupyter-widgets/base",
      "_view_module_version": "1.2.0",
      "_view_name": "StyleView",
      "description_width": ""
     }
    },
    "277d67cf712946a38728067e1b797ea6": {
     "model_module": "@jupyter-widgets/controls",
     "model_name": "DescriptionStyleModel",
     "state": {
      "_model_module": "@jupyter-widgets/controls",
      "_model_module_version": "1.5.0",
      "_model_name": "DescriptionStyleModel",
      "_view_count": null,
      "_view_module": "@jupyter-widgets/base",
      "_view_module_version": "1.2.0",
      "_view_name": "StyleView",
      "description_width": ""
     }
    },
    "31833e2a6ca44cc7b954a2c6857ed91f": {
     "model_module": "@jupyter-widgets/controls",
     "model_name": "FloatProgressModel",
     "state": {
      "_dom_classes": [],
      "_model_module": "@jupyter-widgets/controls",
      "_model_module_version": "1.5.0",
      "_model_name": "FloatProgressModel",
      "_view_count": null,
      "_view_module": "@jupyter-widgets/controls",
      "_view_module_version": "1.5.0",
      "_view_name": "ProgressView",
      "bar_style": "success",
      "description": "Downloading: 100%",
      "description_tooltip": null,
      "layout": "IPY_MODEL_5776942e5e2c47c0a811dc6a7db532e3",
      "max": 548118077,
      "min": 0,
      "orientation": "horizontal",
      "style": "IPY_MODEL_503080c2a4e549e2888500c80adad972",
      "value": 548118077
     }
    },
    "391946e89d11446684fa98cd8085dcad": {
     "model_module": "@jupyter-widgets/base",
     "model_name": "LayoutModel",
     "state": {
      "_model_module": "@jupyter-widgets/base",
      "_model_module_version": "1.2.0",
      "_model_name": "LayoutModel",
      "_view_count": null,
      "_view_module": "@jupyter-widgets/base",
      "_view_module_version": "1.2.0",
      "_view_name": "LayoutView",
      "align_content": null,
      "align_items": null,
      "align_self": null,
      "border": null,
      "bottom": null,
      "display": null,
      "flex": null,
      "flex_flow": null,
      "grid_area": null,
      "grid_auto_columns": null,
      "grid_auto_flow": null,
      "grid_auto_rows": null,
      "grid_column": null,
      "grid_gap": null,
      "grid_row": null,
      "grid_template_areas": null,
      "grid_template_columns": null,
      "grid_template_rows": null,
      "height": null,
      "justify_content": null,
      "justify_items": null,
      "left": null,
      "margin": null,
      "max_height": null,
      "max_width": null,
      "min_height": null,
      "min_width": null,
      "object_fit": null,
      "object_position": null,
      "order": null,
      "overflow": null,
      "overflow_x": null,
      "overflow_y": null,
      "padding": null,
      "right": null,
      "top": null,
      "visibility": null,
      "width": null
     }
    },
    "3d26d29ac6554b73971d3f803550ceec": {
     "model_module": "@jupyter-widgets/controls",
     "model_name": "HBoxModel",
     "state": {
      "_dom_classes": [],
      "_model_module": "@jupyter-widgets/controls",
      "_model_module_version": "1.5.0",
      "_model_name": "HBoxModel",
      "_view_count": null,
      "_view_module": "@jupyter-widgets/controls",
      "_view_module_version": "1.5.0",
      "_view_name": "HBoxView",
      "box_style": "",
      "children": [
       "IPY_MODEL_31833e2a6ca44cc7b954a2c6857ed91f",
       "IPY_MODEL_8c7ca81029d2419cb728629f17b9ccb8"
      ],
      "layout": "IPY_MODEL_391946e89d11446684fa98cd8085dcad"
     }
    },
    "480faa6243d749a490e3e0b932cd0131": {
     "model_module": "@jupyter-widgets/controls",
     "model_name": "HBoxModel",
     "state": {
      "_dom_classes": [],
      "_model_module": "@jupyter-widgets/controls",
      "_model_module_version": "1.5.0",
      "_model_name": "HBoxModel",
      "_view_count": null,
      "_view_module": "@jupyter-widgets/controls",
      "_view_module_version": "1.5.0",
      "_view_name": "HBoxView",
      "box_style": "",
      "children": [
       "IPY_MODEL_79d45725b8554ad58a7b195434d9abbd",
       "IPY_MODEL_c0a3245c53cf41ec848bb42374634701"
      ],
      "layout": "IPY_MODEL_df1f1a58788e4693a324a9dac11ff550"
     }
    },
    "503080c2a4e549e2888500c80adad972": {
     "model_module": "@jupyter-widgets/controls",
     "model_name": "ProgressStyleModel",
     "state": {
      "_model_module": "@jupyter-widgets/controls",
      "_model_module_version": "1.5.0",
      "_model_name": "ProgressStyleModel",
      "_view_count": null,
      "_view_module": "@jupyter-widgets/base",
      "_view_module_version": "1.2.0",
      "_view_name": "StyleView",
      "bar_color": null,
      "description_width": "initial"
     }
    },
    "5776942e5e2c47c0a811dc6a7db532e3": {
     "model_module": "@jupyter-widgets/base",
     "model_name": "LayoutModel",
     "state": {
      "_model_module": "@jupyter-widgets/base",
      "_model_module_version": "1.2.0",
      "_model_name": "LayoutModel",
      "_view_count": null,
      "_view_module": "@jupyter-widgets/base",
      "_view_module_version": "1.2.0",
      "_view_name": "LayoutView",
      "align_content": null,
      "align_items": null,
      "align_self": null,
      "border": null,
      "bottom": null,
      "display": null,
      "flex": null,
      "flex_flow": null,
      "grid_area": null,
      "grid_auto_columns": null,
      "grid_auto_flow": null,
      "grid_auto_rows": null,
      "grid_column": null,
      "grid_gap": null,
      "grid_row": null,
      "grid_template_areas": null,
      "grid_template_columns": null,
      "grid_template_rows": null,
      "height": null,
      "justify_content": null,
      "justify_items": null,
      "left": null,
      "margin": null,
      "max_height": null,
      "max_width": null,
      "min_height": null,
      "min_width": null,
      "object_fit": null,
      "object_position": null,
      "order": null,
      "overflow": null,
      "overflow_x": null,
      "overflow_y": null,
      "padding": null,
      "right": null,
      "top": null,
      "visibility": null,
      "width": null
     }
    },
    "79d45725b8554ad58a7b195434d9abbd": {
     "model_module": "@jupyter-widgets/controls",
     "model_name": "FloatProgressModel",
     "state": {
      "_dom_classes": [],
      "_model_module": "@jupyter-widgets/controls",
      "_model_module_version": "1.5.0",
      "_model_name": "FloatProgressModel",
      "_view_count": null,
      "_view_module": "@jupyter-widgets/controls",
      "_view_module_version": "1.5.0",
      "_view_name": "ProgressView",
      "bar_style": "success",
      "description": "Downloading: 100%",
      "description_tooltip": null,
      "layout": "IPY_MODEL_a3af69cd15e44eb5bfca34ca6bf00901",
      "max": 554,
      "min": 0,
      "orientation": "horizontal",
      "style": "IPY_MODEL_c7db0a07a23e4b07953a6073fec59ab1",
      "value": 554
     }
    },
    "8c7ca81029d2419cb728629f17b9ccb8": {
     "model_module": "@jupyter-widgets/controls",
     "model_name": "HTMLModel",
     "state": {
      "_dom_classes": [],
      "_model_module": "@jupyter-widgets/controls",
      "_model_module_version": "1.5.0",
      "_model_name": "HTMLModel",
      "_view_count": null,
      "_view_module": "@jupyter-widgets/controls",
      "_view_module_version": "1.5.0",
      "_view_name": "HTMLView",
      "description": "",
      "description_tooltip": null,
      "layout": "IPY_MODEL_cd66de3ec1b64ac8afdfd849622f0dba",
      "placeholder": "​",
      "style": "IPY_MODEL_21420668d6704cf6a913d940a2db16a7",
      "value": " 548M/548M [00:18&lt;00:00, 29.7MB/s]"
     }
    },
    "a3af69cd15e44eb5bfca34ca6bf00901": {
     "model_module": "@jupyter-widgets/base",
     "model_name": "LayoutModel",
     "state": {
      "_model_module": "@jupyter-widgets/base",
      "_model_module_version": "1.2.0",
      "_model_name": "LayoutModel",
      "_view_count": null,
      "_view_module": "@jupyter-widgets/base",
      "_view_module_version": "1.2.0",
      "_view_name": "LayoutView",
      "align_content": null,
      "align_items": null,
      "align_self": null,
      "border": null,
      "bottom": null,
      "display": null,
      "flex": null,
      "flex_flow": null,
      "grid_area": null,
      "grid_auto_columns": null,
      "grid_auto_flow": null,
      "grid_auto_rows": null,
      "grid_column": null,
      "grid_gap": null,
      "grid_row": null,
      "grid_template_areas": null,
      "grid_template_columns": null,
      "grid_template_rows": null,
      "height": null,
      "justify_content": null,
      "justify_items": null,
      "left": null,
      "margin": null,
      "max_height": null,
      "max_width": null,
      "min_height": null,
      "min_width": null,
      "object_fit": null,
      "object_position": null,
      "order": null,
      "overflow": null,
      "overflow_x": null,
      "overflow_y": null,
      "padding": null,
      "right": null,
      "top": null,
      "visibility": null,
      "width": null
     }
    },
    "c0a3245c53cf41ec848bb42374634701": {
     "model_module": "@jupyter-widgets/controls",
     "model_name": "HTMLModel",
     "state": {
      "_dom_classes": [],
      "_model_module": "@jupyter-widgets/controls",
      "_model_module_version": "1.5.0",
      "_model_name": "HTMLModel",
      "_view_count": null,
      "_view_module": "@jupyter-widgets/controls",
      "_view_module_version": "1.5.0",
      "_view_name": "HTMLView",
      "description": "",
      "description_tooltip": null,
      "layout": "IPY_MODEL_03f415c0c64a4f97823f4360af1c6b79",
      "placeholder": "​",
      "style": "IPY_MODEL_277d67cf712946a38728067e1b797ea6",
      "value": " 554/554 [00:00&lt;00:00, 1.20kB/s]"
     }
    },
    "c7db0a07a23e4b07953a6073fec59ab1": {
     "model_module": "@jupyter-widgets/controls",
     "model_name": "ProgressStyleModel",
     "state": {
      "_model_module": "@jupyter-widgets/controls",
      "_model_module_version": "1.5.0",
      "_model_name": "ProgressStyleModel",
      "_view_count": null,
      "_view_module": "@jupyter-widgets/base",
      "_view_module_version": "1.2.0",
      "_view_name": "StyleView",
      "bar_color": null,
      "description_width": "initial"
     }
    },
    "cd66de3ec1b64ac8afdfd849622f0dba": {
     "model_module": "@jupyter-widgets/base",
     "model_name": "LayoutModel",
     "state": {
      "_model_module": "@jupyter-widgets/base",
      "_model_module_version": "1.2.0",
      "_model_name": "LayoutModel",
      "_view_count": null,
      "_view_module": "@jupyter-widgets/base",
      "_view_module_version": "1.2.0",
      "_view_name": "LayoutView",
      "align_content": null,
      "align_items": null,
      "align_self": null,
      "border": null,
      "bottom": null,
      "display": null,
      "flex": null,
      "flex_flow": null,
      "grid_area": null,
      "grid_auto_columns": null,
      "grid_auto_flow": null,
      "grid_auto_rows": null,
      "grid_column": null,
      "grid_gap": null,
      "grid_row": null,
      "grid_template_areas": null,
      "grid_template_columns": null,
      "grid_template_rows": null,
      "height": null,
      "justify_content": null,
      "justify_items": null,
      "left": null,
      "margin": null,
      "max_height": null,
      "max_width": null,
      "min_height": null,
      "min_width": null,
      "object_fit": null,
      "object_position": null,
      "order": null,
      "overflow": null,
      "overflow_x": null,
      "overflow_y": null,
      "padding": null,
      "right": null,
      "top": null,
      "visibility": null,
      "width": null
     }
    },
    "df1f1a58788e4693a324a9dac11ff550": {
     "model_module": "@jupyter-widgets/base",
     "model_name": "LayoutModel",
     "state": {
      "_model_module": "@jupyter-widgets/base",
      "_model_module_version": "1.2.0",
      "_model_name": "LayoutModel",
      "_view_count": null,
      "_view_module": "@jupyter-widgets/base",
      "_view_module_version": "1.2.0",
      "_view_name": "LayoutView",
      "align_content": null,
      "align_items": null,
      "align_self": null,
      "border": null,
      "bottom": null,
      "display": null,
      "flex": null,
      "flex_flow": null,
      "grid_area": null,
      "grid_auto_columns": null,
      "grid_auto_flow": null,
      "grid_auto_rows": null,
      "grid_column": null,
      "grid_gap": null,
      "grid_row": null,
      "grid_template_areas": null,
      "grid_template_columns": null,
      "grid_template_rows": null,
      "height": null,
      "justify_content": null,
      "justify_items": null,
      "left": null,
      "margin": null,
      "max_height": null,
      "max_width": null,
      "min_height": null,
      "min_width": null,
      "object_fit": null,
      "object_position": null,
      "order": null,
      "overflow": null,
      "overflow_x": null,
      "overflow_y": null,
      "padding": null,
      "right": null,
      "top": null,
      "visibility": null,
      "width": null
     }
    }
   }
  }
 },
 "nbformat": 4,
 "nbformat_minor": 4
}
